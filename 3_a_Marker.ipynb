{
 "cells": [
  {
   "cell_type": "markdown",
   "metadata": {},
   "source": [
    "## FindConservedMarkers: cnv.mk 파일을 분석한다."
   ]
  },
  {
   "cell_type": "code",
   "execution_count": 1,
   "metadata": {},
   "outputs": [],
   "source": [
    "import numpy as np\n",
    "import pandas as pd\n",
    "import webbrowser\n",
    "import re"
   ]
  },
  {
   "cell_type": "markdown",
   "metadata": {},
   "source": [
    "## FindAllMarkers: All.mk 파일을 분석한다"
   ]
  },
  {
   "cell_type": "code",
   "execution_count": 19,
   "metadata": {},
   "outputs": [
    {
     "name": "stdin",
     "output_type": "stream",
     "text": [
      "Enter gene name: CD247\n"
     ]
    },
    {
     "name": "stdout",
     "output_type": "stream",
     "text": [
      "       gene              cluster  avg_log2FC  pct.1  pct.2          p_val\n",
      "3637  CD247                   NK    2.040612  0.946  0.510   0.000000e+00\n",
      "18    CD247                gdT_1    1.288157  0.867  0.513   0.000000e+00\n",
      "5424  CD247                 Treg   -1.042431  0.532  0.566   2.599809e-28\n",
      "3486  CD247            CD8_TRM_2   -1.192813  0.424  0.576  2.755063e-103\n",
      "1666  CD247  Activated_CD8_TRM_1   -1.650288  0.394  0.590  2.321242e-305\n",
      "6007  CD247                 NK_T   -1.821414  0.365  0.596   0.000000e+00\n",
      "2612  CD247                  TCM   -1.844804  0.389  0.580  1.829608e-235\n",
      "2026  CD247            CD8_TRM_1   -1.941024  0.328  0.598   0.000000e+00\n"
     ]
    },
    {
     "data": {
      "text/plain": [
       "True"
      ]
     },
     "execution_count": 19,
     "metadata": {},
     "output_type": "execute_result"
    }
   ],
   "source": [
    "df_A = pd.read_csv('./results/TC_DEG/TNK_All_mk.tsv', sep = '\\t')\n",
    "df_A\n",
    "\n",
    "Gene = input('Enter gene name:')\n",
    "\n",
    "a = df_A[df_A['gene'] == Gene]\n",
    "b = a.sort_values('avg_log2FC', ascending=False)\n",
    "\n",
    "print(b[['gene', 'cluster', 'avg_log2FC', 'pct.1', 'pct.2', 'p_val']])\n",
    "\n",
    "webbrowser.open_new('https://www.genecards.org/cgi-bin/carddisp.pl?gene={}#summaries'.format(Gene))\n",
    "# webbrowser.open_new('http://yikedaxue.slwshop.cn/search.php?quickSearchInfo={}#framekuang'.format(Gene))"
   ]
  },
  {
   "cell_type": "markdown",
   "metadata": {},
   "source": [
    "## FindMarkers: .mp 파일을 분석한다."
   ]
  },
  {
   "cell_type": "code",
   "execution_count": 20,
   "metadata": {
    "scrolled": true
   },
   "outputs": [
    {
     "name": "stdin",
     "output_type": "stream",
     "text": [
      "Enter the number of cluster:  CD8_TRM_2\n"
     ]
    },
    {
     "data": {
      "text/html": [
       "<div>\n",
       "<style scoped>\n",
       "    .dataframe tbody tr th:only-of-type {\n",
       "        vertical-align: middle;\n",
       "    }\n",
       "\n",
       "    .dataframe tbody tr th {\n",
       "        vertical-align: top;\n",
       "    }\n",
       "\n",
       "    .dataframe thead th {\n",
       "        text-align: right;\n",
       "    }\n",
       "</style>\n",
       "<table border=\"1\" class=\"dataframe\">\n",
       "  <thead>\n",
       "    <tr style=\"text-align: right;\">\n",
       "      <th></th>\n",
       "      <th>Row.names</th>\n",
       "      <th>avg_log2FC.x</th>\n",
       "      <th>power</th>\n",
       "      <th>pct.1.x</th>\n",
       "      <th>pct.2.x</th>\n",
       "      <th>p_val</th>\n",
       "      <th>p_val_adj</th>\n",
       "    </tr>\n",
       "  </thead>\n",
       "  <tbody>\n",
       "    <tr>\n",
       "      <th>139</th>\n",
       "      <td>CD247</td>\n",
       "      <td>-1.192813</td>\n",
       "      <td>0.220</td>\n",
       "      <td>0.424</td>\n",
       "      <td>0.576</td>\n",
       "      <td>2.755063e-103</td>\n",
       "      <td>8.684511e-99</td>\n",
       "    </tr>\n",
       "    <tr>\n",
       "      <th>140</th>\n",
       "      <td>TYROBP</td>\n",
       "      <td>-1.369075</td>\n",
       "      <td>0.216</td>\n",
       "      <td>0.220</td>\n",
       "      <td>0.408</td>\n",
       "      <td>3.084612e-117</td>\n",
       "      <td>9.723315e-113</td>\n",
       "    </tr>\n",
       "    <tr>\n",
       "      <th>144</th>\n",
       "      <td>FCGR3A</td>\n",
       "      <td>-2.399010</td>\n",
       "      <td>0.254</td>\n",
       "      <td>0.119</td>\n",
       "      <td>0.356</td>\n",
       "      <td>1.275699e-178</td>\n",
       "      <td>4.021258e-174</td>\n",
       "    </tr>\n",
       "    <tr>\n",
       "      <th>145</th>\n",
       "      <td>KLRF1</td>\n",
       "      <td>-2.680794</td>\n",
       "      <td>0.222</td>\n",
       "      <td>0.073</td>\n",
       "      <td>0.286</td>\n",
       "      <td>9.571327e-158</td>\n",
       "      <td>3.017074e-153</td>\n",
       "    </tr>\n",
       "  </tbody>\n",
       "</table>\n",
       "</div>"
      ],
      "text/plain": [
       "    Row.names  avg_log2FC.x  power  pct.1.x  pct.2.x          p_val  \\\n",
       "139     CD247     -1.192813  0.220    0.424    0.576  2.755063e-103   \n",
       "140    TYROBP     -1.369075  0.216    0.220    0.408  3.084612e-117   \n",
       "144    FCGR3A     -2.399010  0.254    0.119    0.356  1.275699e-178   \n",
       "145     KLRF1     -2.680794  0.222    0.073    0.286  9.571327e-158   \n",
       "\n",
       "         p_val_adj  \n",
       "139   8.684511e-99  \n",
       "140  9.723315e-113  \n",
       "144  4.021258e-174  \n",
       "145  3.017074e-153  "
      ]
     },
     "execution_count": 20,
     "metadata": {},
     "output_type": "execute_result"
    }
   ],
   "source": [
    "cls = input('Enter the number of cluster: ')\n",
    "\n",
    "df_C = pd.read_csv('./results/TC_DEG/{}_in_TNK_mp.tsv'.format(cls), sep = '\\t')\n",
    "\n",
    "df_C = df_C[['Row.names', 'avg_log2FC.x', 'power', 'pct.1.x', 'pct.2.x', 'p_val', 'p_val_adj']]\n",
    "df_C = df_C[(df_C['power'] > 0.2) & (df_C['p_val_adj'] < 0.05)]\n",
    "\n",
    "df_C = df_C.sort_values(by = ['avg_log2FC.x', 'power'], ascending = [False, False])\n",
    "df_C\n",
    "\n",
    "# webbrowser.open_new('http://bio-bigdata.hrbmu.edu.cn/CellMarker/')"
   ]
  },
  {
   "cell_type": "code",
   "execution_count": null,
   "metadata": {},
   "outputs": [],
   "source": []
  }
 ],
 "metadata": {
  "kernelspec": {
   "display_name": "Python 3 (ipykernel)",
   "language": "python",
   "name": "python3"
  },
  "language_info": {
   "codemirror_mode": {
    "name": "ipython",
    "version": 3
   },
   "file_extension": ".py",
   "mimetype": "text/x-python",
   "name": "python",
   "nbconvert_exporter": "python",
   "pygments_lexer": "ipython3",
   "version": "3.8.18"
  }
 },
 "nbformat": 4,
 "nbformat_minor": 4
}
